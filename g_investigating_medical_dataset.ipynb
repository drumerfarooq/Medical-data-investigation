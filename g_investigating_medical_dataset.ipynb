{
 "cells": [
  {
   "cell_type": "markdown",
   "metadata": {},
   "source": [
    "<div style=\"background-color:rgba(0, 225, 0, 0.1)\"> \n",
    "\n",
    "# Submitted by: Umer Farooq\n",
    "# Program: Data Analysis Nanodegree\n",
    "# Project 2: Ingvestigating the dataset for no-show appointments\n",
    "\n",
    "## Table of Contents\n",
    "<ul>\n",
    "<li><a href=\"#intro\">Introduction</a></li>\n",
    "<li><a href=\"#wrangling\">Data Wrangling</a></li>\n",
    "<li><a href=\"#eda\">Exploratory Data Analysis</a></li>\n",
    "<li><a href=\"#conclusions\">Conclusions</a></li>\n",
    "</ul>\n",
    "    \n",
    "</div>"
   ]
  },
  {
   "cell_type": "markdown",
   "metadata": {},
   "source": [
    "<div style=\"background-color:rgba(0, 225, 0, 0.1)\"> \n",
    "\n",
    "<a id='intro'></a>\n",
    "## 1) Introduction\n",
    "\n",
    "We have chosen the dataset that contains data on no-show appointments from over a hundred thoudand cases in Brazil. A number of characteristics or associated features are presented along with the information on if a patient was able to show up for the appointment or not.\n",
    "\n",
    "The features are as follows:\n",
    "\n",
    "**PatientId**: <span style=\"color:red\">Identification of a patient</span> <br>\n",
    "**AppointmentId**: <span style=\"color:red\">Identification of each appointment</span> <br>\n",
    "**Gender**: <span style=\"color:red\">Gender of the patient, male or female</span> <br>\n",
    "**ScheduledDay**: <span style=\"color:red\">The day of the scheduled appointment, when patient has to visit the doctor</span> <br>\n",
    "**AppointmentDay**: <span style=\"color:red\">The day appointment was made</span> <br>\n",
    "**Age**: <span style=\"color:red\">How old is the patient</span> <br>\n",
    "**Neighborhood**: <span style=\"color:red\">The location of hopital where appointment was made</span> <br>\n",
    "**Scholarship**: <span style=\"color:red\">Whether the patient has a financial scholarship or not</span> <br>\n",
    "**Hipertension**: <span style=\"color:red\">Whether the patient has  hipertension or not</span> <br>\n",
    "**Diabetes**: <span style=\"color:red\">Whether the patient has  diabetes or not</span> <br>\n",
    "**Alchoholism**: <span style=\"color:red\">Whether the patient suffers from alchoholism or not</span> <br>\n",
    "**HandCap**: <span style=\"color:red\">Whether the patient is handicapped or not</span> <br>\n",
    "**SMS_received**: <span style=\"color:red\">Were any SMS recieved by the patient</span> <br>\n",
    "**No-show**: <span style=\"color:red\">No if patient showed up, Yes if they did not</span> <br>\n",
    "\n",
    "</div>\n"
   ]
  },
  {
   "cell_type": "markdown",
   "metadata": {},
   "source": [
    "<div style=\"background-color:rgba(0, 225, 0, 0.1)\"> \n",
    "\n",
    "**Some questions that we will try to answer by analyzing this data are as follows:** <br>\n",
    "<br>\n",
    "**Q1:** What fraction of the total appointments made had a no-show?  <br>\n",
    "**Q2:** How many appointments were made by male and female patients? How likely are each to not show up?<br>\n",
    "**Q3:** Does there seem to be any link between age and not showing up? <br>\n",
    "**Q4:** Which are the top ten neighbourhoods by number of appointments? Which of these neighborhoods had the highest propotion of appointments made by patients with a scholarship? Which one had lowest?<br>\n",
    "**Q5:** Is receiving SMS effective in making sure the appointment is not missed?  <br>\n",
    "**Q6:** Investigate the effect of any disabilities on no-show trends. Out of the four disabilities (hipertension, diabetes, alchoholism, handicapped), which might be the most major factor causing no-show?<br>\n",
    "**Q7:** Among patients who booked more than ten appointments, how many never missed an appointment?<br>\n",
    "**Q8:** Compare and contrast the no-show trends based on different days of the week.<br>\n",
    "\n",
    "</div>    "
   ]
  },
  {
   "cell_type": "code",
   "execution_count": 1,
   "metadata": {},
   "outputs": [],
   "source": [
    "# First step in code is to import relevant packages\n",
    "\n",
    "import pandas as pd\n",
    "import numpy as np\n",
    "import matplotlib.pyplot as plt\n",
    "from IPython.display import display as disp\n",
    "%matplotlib inline"
   ]
  },
  {
   "cell_type": "markdown",
   "metadata": {},
   "source": [
    "<div style=\"background-color:rgba(0, 225, 0, 0.1)\"> \n",
    "    \n",
    "<a id='wrangling'></a>\n",
    "## 2) Data Wrangling\n",
    "\n",
    "Now we will import the data from the csv file and store it in a pandas dataframe. We will then inspect the data, look at some of its properties and then decide what needs to be cleaned.\n",
    "\n",
    "    \n",
    "</div>"
   ]
  },
  {
   "cell_type": "markdown",
   "metadata": {},
   "source": [
    "<div style=\"background-color:rgba(0, 225, 0, 0.1)\"> \n",
    "    \n",
    "<a id='wrangling'></a>\n",
    "### General Properties\n",
    "</div>"
   ]
  },
  {
   "cell_type": "code",
   "execution_count": 2,
   "metadata": {},
   "outputs": [
    {
     "data": {
      "text/html": [
       "<div>\n",
       "<style scoped>\n",
       "    .dataframe tbody tr th:only-of-type {\n",
       "        vertical-align: middle;\n",
       "    }\n",
       "\n",
       "    .dataframe tbody tr th {\n",
       "        vertical-align: top;\n",
       "    }\n",
       "\n",
       "    .dataframe thead th {\n",
       "        text-align: right;\n",
       "    }\n",
       "</style>\n",
       "<table border=\"1\" class=\"dataframe\">\n",
       "  <thead>\n",
       "    <tr style=\"text-align: right;\">\n",
       "      <th></th>\n",
       "      <th>PatientId</th>\n",
       "      <th>AppointmentID</th>\n",
       "      <th>Gender</th>\n",
       "      <th>ScheduledDay</th>\n",
       "      <th>AppointmentDay</th>\n",
       "      <th>Age</th>\n",
       "      <th>Neighbourhood</th>\n",
       "      <th>Scholarship</th>\n",
       "      <th>Hipertension</th>\n",
       "      <th>Diabetes</th>\n",
       "      <th>Alcoholism</th>\n",
       "      <th>Handcap</th>\n",
       "      <th>SMS_received</th>\n",
       "      <th>No-show</th>\n",
       "    </tr>\n",
       "  </thead>\n",
       "  <tbody>\n",
       "    <tr>\n",
       "      <th>0</th>\n",
       "      <td>2.987250e+13</td>\n",
       "      <td>5642903</td>\n",
       "      <td>F</td>\n",
       "      <td>2016-04-29T18:38:08Z</td>\n",
       "      <td>2016-04-29T00:00:00Z</td>\n",
       "      <td>62</td>\n",
       "      <td>JARDIM DA PENHA</td>\n",
       "      <td>0</td>\n",
       "      <td>1</td>\n",
       "      <td>0</td>\n",
       "      <td>0</td>\n",
       "      <td>0</td>\n",
       "      <td>0</td>\n",
       "      <td>No</td>\n",
       "    </tr>\n",
       "    <tr>\n",
       "      <th>1</th>\n",
       "      <td>5.589978e+14</td>\n",
       "      <td>5642503</td>\n",
       "      <td>M</td>\n",
       "      <td>2016-04-29T16:08:27Z</td>\n",
       "      <td>2016-04-29T00:00:00Z</td>\n",
       "      <td>56</td>\n",
       "      <td>JARDIM DA PENHA</td>\n",
       "      <td>0</td>\n",
       "      <td>0</td>\n",
       "      <td>0</td>\n",
       "      <td>0</td>\n",
       "      <td>0</td>\n",
       "      <td>0</td>\n",
       "      <td>No</td>\n",
       "    </tr>\n",
       "    <tr>\n",
       "      <th>2</th>\n",
       "      <td>4.262962e+12</td>\n",
       "      <td>5642549</td>\n",
       "      <td>F</td>\n",
       "      <td>2016-04-29T16:19:04Z</td>\n",
       "      <td>2016-04-29T00:00:00Z</td>\n",
       "      <td>62</td>\n",
       "      <td>MATA DA PRAIA</td>\n",
       "      <td>0</td>\n",
       "      <td>0</td>\n",
       "      <td>0</td>\n",
       "      <td>0</td>\n",
       "      <td>0</td>\n",
       "      <td>0</td>\n",
       "      <td>No</td>\n",
       "    </tr>\n",
       "  </tbody>\n",
       "</table>\n",
       "</div>"
      ],
      "text/plain": [
       "      PatientId  AppointmentID Gender          ScheduledDay  \\\n",
       "0  2.987250e+13        5642903      F  2016-04-29T18:38:08Z   \n",
       "1  5.589978e+14        5642503      M  2016-04-29T16:08:27Z   \n",
       "2  4.262962e+12        5642549      F  2016-04-29T16:19:04Z   \n",
       "\n",
       "         AppointmentDay  Age    Neighbourhood  Scholarship  Hipertension  \\\n",
       "0  2016-04-29T00:00:00Z   62  JARDIM DA PENHA            0             1   \n",
       "1  2016-04-29T00:00:00Z   56  JARDIM DA PENHA            0             0   \n",
       "2  2016-04-29T00:00:00Z   62    MATA DA PRAIA            0             0   \n",
       "\n",
       "   Diabetes  Alcoholism  Handcap  SMS_received No-show  \n",
       "0         0           0        0             0      No  \n",
       "1         0           0        0             0      No  \n",
       "2         0           0        0             0      No  "
      ]
     },
     "metadata": {},
     "output_type": "display_data"
    },
    {
     "data": {
      "text/html": [
       "<div>\n",
       "<style scoped>\n",
       "    .dataframe tbody tr th:only-of-type {\n",
       "        vertical-align: middle;\n",
       "    }\n",
       "\n",
       "    .dataframe tbody tr th {\n",
       "        vertical-align: top;\n",
       "    }\n",
       "\n",
       "    .dataframe thead th {\n",
       "        text-align: right;\n",
       "    }\n",
       "</style>\n",
       "<table border=\"1\" class=\"dataframe\">\n",
       "  <thead>\n",
       "    <tr style=\"text-align: right;\">\n",
       "      <th></th>\n",
       "      <th>PatientId</th>\n",
       "      <th>AppointmentID</th>\n",
       "      <th>Age</th>\n",
       "      <th>Scholarship</th>\n",
       "      <th>Hipertension</th>\n",
       "      <th>Diabetes</th>\n",
       "      <th>Alcoholism</th>\n",
       "      <th>Handcap</th>\n",
       "      <th>SMS_received</th>\n",
       "    </tr>\n",
       "  </thead>\n",
       "  <tbody>\n",
       "    <tr>\n",
       "      <th>count</th>\n",
       "      <td>1.105270e+05</td>\n",
       "      <td>1.105270e+05</td>\n",
       "      <td>110527.000000</td>\n",
       "      <td>110527.000000</td>\n",
       "      <td>110527.000000</td>\n",
       "      <td>110527.000000</td>\n",
       "      <td>110527.000000</td>\n",
       "      <td>110527.000000</td>\n",
       "      <td>110527.000000</td>\n",
       "    </tr>\n",
       "    <tr>\n",
       "      <th>mean</th>\n",
       "      <td>1.474963e+14</td>\n",
       "      <td>5.675305e+06</td>\n",
       "      <td>37.088874</td>\n",
       "      <td>0.098266</td>\n",
       "      <td>0.197246</td>\n",
       "      <td>0.071865</td>\n",
       "      <td>0.030400</td>\n",
       "      <td>0.022248</td>\n",
       "      <td>0.321026</td>\n",
       "    </tr>\n",
       "    <tr>\n",
       "      <th>std</th>\n",
       "      <td>2.560949e+14</td>\n",
       "      <td>7.129575e+04</td>\n",
       "      <td>23.110205</td>\n",
       "      <td>0.297675</td>\n",
       "      <td>0.397921</td>\n",
       "      <td>0.258265</td>\n",
       "      <td>0.171686</td>\n",
       "      <td>0.161543</td>\n",
       "      <td>0.466873</td>\n",
       "    </tr>\n",
       "    <tr>\n",
       "      <th>min</th>\n",
       "      <td>3.921784e+04</td>\n",
       "      <td>5.030230e+06</td>\n",
       "      <td>-1.000000</td>\n",
       "      <td>0.000000</td>\n",
       "      <td>0.000000</td>\n",
       "      <td>0.000000</td>\n",
       "      <td>0.000000</td>\n",
       "      <td>0.000000</td>\n",
       "      <td>0.000000</td>\n",
       "    </tr>\n",
       "    <tr>\n",
       "      <th>25%</th>\n",
       "      <td>4.172614e+12</td>\n",
       "      <td>5.640286e+06</td>\n",
       "      <td>18.000000</td>\n",
       "      <td>0.000000</td>\n",
       "      <td>0.000000</td>\n",
       "      <td>0.000000</td>\n",
       "      <td>0.000000</td>\n",
       "      <td>0.000000</td>\n",
       "      <td>0.000000</td>\n",
       "    </tr>\n",
       "    <tr>\n",
       "      <th>50%</th>\n",
       "      <td>3.173184e+13</td>\n",
       "      <td>5.680573e+06</td>\n",
       "      <td>37.000000</td>\n",
       "      <td>0.000000</td>\n",
       "      <td>0.000000</td>\n",
       "      <td>0.000000</td>\n",
       "      <td>0.000000</td>\n",
       "      <td>0.000000</td>\n",
       "      <td>0.000000</td>\n",
       "    </tr>\n",
       "    <tr>\n",
       "      <th>75%</th>\n",
       "      <td>9.439172e+13</td>\n",
       "      <td>5.725524e+06</td>\n",
       "      <td>55.000000</td>\n",
       "      <td>0.000000</td>\n",
       "      <td>0.000000</td>\n",
       "      <td>0.000000</td>\n",
       "      <td>0.000000</td>\n",
       "      <td>0.000000</td>\n",
       "      <td>1.000000</td>\n",
       "    </tr>\n",
       "    <tr>\n",
       "      <th>max</th>\n",
       "      <td>9.999816e+14</td>\n",
       "      <td>5.790484e+06</td>\n",
       "      <td>115.000000</td>\n",
       "      <td>1.000000</td>\n",
       "      <td>1.000000</td>\n",
       "      <td>1.000000</td>\n",
       "      <td>1.000000</td>\n",
       "      <td>4.000000</td>\n",
       "      <td>1.000000</td>\n",
       "    </tr>\n",
       "  </tbody>\n",
       "</table>\n",
       "</div>"
      ],
      "text/plain": [
       "          PatientId  AppointmentID            Age    Scholarship  \\\n",
       "count  1.105270e+05   1.105270e+05  110527.000000  110527.000000   \n",
       "mean   1.474963e+14   5.675305e+06      37.088874       0.098266   \n",
       "std    2.560949e+14   7.129575e+04      23.110205       0.297675   \n",
       "min    3.921784e+04   5.030230e+06      -1.000000       0.000000   \n",
       "25%    4.172614e+12   5.640286e+06      18.000000       0.000000   \n",
       "50%    3.173184e+13   5.680573e+06      37.000000       0.000000   \n",
       "75%    9.439172e+13   5.725524e+06      55.000000       0.000000   \n",
       "max    9.999816e+14   5.790484e+06     115.000000       1.000000   \n",
       "\n",
       "        Hipertension       Diabetes     Alcoholism        Handcap  \\\n",
       "count  110527.000000  110527.000000  110527.000000  110527.000000   \n",
       "mean        0.197246       0.071865       0.030400       0.022248   \n",
       "std         0.397921       0.258265       0.171686       0.161543   \n",
       "min         0.000000       0.000000       0.000000       0.000000   \n",
       "25%         0.000000       0.000000       0.000000       0.000000   \n",
       "50%         0.000000       0.000000       0.000000       0.000000   \n",
       "75%         0.000000       0.000000       0.000000       0.000000   \n",
       "max         1.000000       1.000000       1.000000       4.000000   \n",
       "\n",
       "        SMS_received  \n",
       "count  110527.000000  \n",
       "mean        0.321026  \n",
       "std         0.466873  \n",
       "min         0.000000  \n",
       "25%         0.000000  \n",
       "50%         0.000000  \n",
       "75%         1.000000  \n",
       "max         1.000000  "
      ]
     },
     "metadata": {},
     "output_type": "display_data"
    },
    {
     "name": "stdout",
     "output_type": "stream",
     "text": [
      "<class 'pandas.core.frame.DataFrame'>\n",
      "RangeIndex: 110527 entries, 0 to 110526\n",
      "Data columns (total 14 columns):\n",
      " #   Column          Non-Null Count   Dtype  \n",
      "---  ------          --------------   -----  \n",
      " 0   PatientId       110527 non-null  float64\n",
      " 1   AppointmentID   110527 non-null  int64  \n",
      " 2   Gender          110527 non-null  object \n",
      " 3   ScheduledDay    110527 non-null  object \n",
      " 4   AppointmentDay  110527 non-null  object \n",
      " 5   Age             110527 non-null  int64  \n",
      " 6   Neighbourhood   110527 non-null  object \n",
      " 7   Scholarship     110527 non-null  int64  \n",
      " 8   Hipertension    110527 non-null  int64  \n",
      " 9   Diabetes        110527 non-null  int64  \n",
      " 10  Alcoholism      110527 non-null  int64  \n",
      " 11  Handcap         110527 non-null  int64  \n",
      " 12  SMS_received    110527 non-null  int64  \n",
      " 13  No-show         110527 non-null  object \n",
      "dtypes: float64(1), int64(8), object(5)\n",
      "memory usage: 11.8+ MB\n"
     ]
    },
    {
     "data": {
      "text/plain": [
       "None"
      ]
     },
     "metadata": {},
     "output_type": "display_data"
    },
    {
     "data": {
      "text/plain": [
       "'Total number of NaN values in the dataset: 0'"
      ]
     },
     "metadata": {},
     "output_type": "display_data"
    },
    {
     "data": {
      "text/plain": [
       "'Number of duplicate rows in the dataset: 0'"
      ]
     },
     "metadata": {},
     "output_type": "display_data"
    },
    {
     "data": {
      "text/plain": [
       "\"Gender unique values: ['F' 'M']\""
      ]
     },
     "metadata": {},
     "output_type": "display_data"
    },
    {
     "data": {
      "text/plain": [
       "'Scholarship unique values: [0 1]'"
      ]
     },
     "metadata": {},
     "output_type": "display_data"
    },
    {
     "data": {
      "text/plain": [
       "'Hipertension unique values: [1 0]'"
      ]
     },
     "metadata": {},
     "output_type": "display_data"
    },
    {
     "data": {
      "text/plain": [
       "'Diabetes unique values: [0 1]'"
      ]
     },
     "metadata": {},
     "output_type": "display_data"
    },
    {
     "data": {
      "text/plain": [
       "'Alcoholism unique values: [0 1]'"
      ]
     },
     "metadata": {},
     "output_type": "display_data"
    },
    {
     "data": {
      "text/plain": [
       "'Handcap unique values: [0 1 2 3 4]'"
      ]
     },
     "metadata": {},
     "output_type": "display_data"
    },
    {
     "data": {
      "text/plain": [
       "'SMS_received unique values: [0 1]'"
      ]
     },
     "metadata": {},
     "output_type": "display_data"
    },
    {
     "data": {
      "text/plain": [
       "\"No-show unique values: ['No' 'Yes']\""
      ]
     },
     "metadata": {},
     "output_type": "display_data"
    }
   ],
   "source": [
    "# Reading the data and storing into a pandas daraframe\n",
    "\n",
    "medical_data = pd.read_csv('KaggleV2-May-2016.csv')\n",
    "\n",
    "# Inspecting the data\n",
    "\n",
    "disp(medical_data.head(3))\n",
    "disp(medical_data.describe())\n",
    "disp(medical_data.info())\n",
    "\n",
    "# checking for any mising data\n",
    "disp('Total number of NaN values in the dataset: {}'.format(medical_data.isnull().sum().sum()))\n",
    "\n",
    "# checking for any duplicate rows\n",
    "disp('Number of duplicate rows in the dataset: {}'.format(sum(medical_data.duplicated())))\n",
    "\n",
    "# checking for any irregularities in the binary data present\n",
    "disp('Gender unique values: {}'.format(medical_data['Gender'].unique()))\n",
    "disp('Scholarship unique values: {}'.format( medical_data['Scholarship'].unique()))\n",
    "disp('Hipertension unique values: {}'.format(medical_data['Hipertension'].unique()))\n",
    "disp('Diabetes unique values: {}'.format(medical_data['Diabetes'].unique()))\n",
    "disp('Alcoholism unique values: {}'.format(medical_data['Alcoholism'].unique()))\n",
    "disp('Handcap unique values: {}'.format(medical_data['Handcap'].unique()))\n",
    "disp('SMS_received unique values: {}'.format(medical_data['SMS_received'].unique()))\n",
    "disp('No-show unique values: {}'.format(medical_data['No-show'].unique()))"
   ]
  },
  {
   "cell_type": "markdown",
   "metadata": {},
   "source": [
    "<div style=\"background-color:rgba(0, 225, 0, 0.1)\">\n",
    "\n",
    "## After data inspection:\n",
    "\n",
    "There are a total of 110527 rows and 14 columns (including the no-show column). <br>\n",
    "\n",
    "The data types of the columns are as follows: <br>\n",
    "    \n",
    "**PatientId**: <span style=\"color:red\">float</span> <br>\n",
    "**AppointmentId**: <span style=\"color:red\">int</span> <br>\n",
    "**Gender**: <span style=\"color:red\">object (string)</span> <br>\n",
    "**ScheduledDay**: <span style=\"color:red\">object (string)</span> <br>\n",
    "**AppointmentDay**: <span style=\"color:red\">object (string)</span> <br>\n",
    "**Age**: <span style=\"color:red\">int</span> <br>\n",
    "**Neighborhood**: <span style=\"color:red\">object (string)</span> <br>\n",
    "**Scholarship**: <span style=\"color:red\">int (0 or 1)</span> <br>\n",
    "**Hipertension**: <span style=\"color:red\">int (0 or 1)</span> <br>\n",
    "**Diabetes**: <span style=\"color:red\">int (0 or 1)</span> <br>\n",
    "**Alchoholism**: <span style=\"color:red\">int (0 or 1)</span> <br>\n",
    "**HandCap**: <span style=\"color:red\">int (0 or 1)</span> <br>\n",
    "**SMS_received**: <span style=\"color:red\">int</span> <br>\n",
    "**No-show**: <span style=\"color:red\">object (string) (Yes or No)</span> <br>\n",
    "    \n",
    "</div> "
   ]
  },
  {
   "cell_type": "markdown",
   "metadata": {},
   "source": [
    "<div style=\"background-color:rgba(0, 225, 0, 0.1)\">\n",
    "\n",
    "## What needs to be cleaned?\n",
    "\n",
    "\n",
    "**Missing data (no change)**: There is no missing data to account for. <br>\n",
    "**Duplicate rows (no change)**: There are no duplicate rows to account for. <br>\n",
    " \n",
    "**Column names (change)**: symbols will be removed from SMS_Recieved and No-show labels. First letters will be capitalized. The last 'D' of AppointmentID will also be changed to lower case. (just for consistency)<br>    \n",
    "**PatientId data type (change)**: needs to be changed from scientific notation. We will store this as a string as this has no numerical significance. <br>\n",
    "**AppointmentId data type (change)**: We will store this as a string as this has no numerical significance. <br>\n",
    "**Age values (change)**: It can be observed in the summary that min age is negative. Since negative age is non physical, age column needs to be cleaned. <br>\n",
    "**No-show (change)**: The data in no-show column will be changed from Yes and No to 1 and 0 of type int, to make it more compatable for analysis. <br>\n",
    "**Handcap (change)**: This will just be treated as true or false. Is the person handicaped or not. So all nonzero values will just be converted to 1. <br>\n",
    "**ScheduledDay data type (change)**: will change from string to datetime object. <br>\n",
    "**AppointmentDay data type (change)**: will change from string to datetime object. <br>\n",
    "**New Column addition**: We add a new column called **ScheduledWeekDay** that has the name of the weekday of scheduled appointment stored as a string. We will insert it right after the AppointmentDay column.\n",
    "</div> "
   ]
  },
  {
   "cell_type": "code",
   "execution_count": 3,
   "metadata": {},
   "outputs": [],
   "source": [
    "########### Changing column names\n",
    "\n",
    "medical_data = medical_data.rename(columns = {'SMS_received': 'SMSReceived', 'No-show':'NoShow', 'AppointmentID': 'AppointmentId' })"
   ]
  },
  {
   "cell_type": "code",
   "execution_count": 4,
   "metadata": {},
   "outputs": [],
   "source": [
    "########### Changing PatientId data type from float to string\n",
    "\n",
    "# to get rid of the extraneous decimal in the string we use .apply method\n",
    "medical_data['PatientId'] = medical_data['PatientId'].apply(lambda x: str(x).split('.')[0])"
   ]
  },
  {
   "cell_type": "code",
   "execution_count": 5,
   "metadata": {},
   "outputs": [],
   "source": [
    "########### Changing AppointmentId data type from int to string\n",
    "\n",
    "medical_data['AppointmentId'] = medical_data['AppointmentId'].astype(str)"
   ]
  },
  {
   "cell_type": "code",
   "execution_count": 6,
   "metadata": {},
   "outputs": [
    {
     "data": {
      "text/html": [
       "<div>\n",
       "<style scoped>\n",
       "    .dataframe tbody tr th:only-of-type {\n",
       "        vertical-align: middle;\n",
       "    }\n",
       "\n",
       "    .dataframe tbody tr th {\n",
       "        vertical-align: top;\n",
       "    }\n",
       "\n",
       "    .dataframe thead th {\n",
       "        text-align: right;\n",
       "    }\n",
       "</style>\n",
       "<table border=\"1\" class=\"dataframe\">\n",
       "  <thead>\n",
       "    <tr style=\"text-align: right;\">\n",
       "      <th></th>\n",
       "      <th>PatientId</th>\n",
       "      <th>AppointmentId</th>\n",
       "      <th>Gender</th>\n",
       "      <th>ScheduledDay</th>\n",
       "      <th>AppointmentDay</th>\n",
       "      <th>Age</th>\n",
       "      <th>Neighbourhood</th>\n",
       "      <th>Scholarship</th>\n",
       "      <th>Hipertension</th>\n",
       "      <th>Diabetes</th>\n",
       "      <th>Alcoholism</th>\n",
       "      <th>Handcap</th>\n",
       "      <th>SMSReceived</th>\n",
       "      <th>NoShow</th>\n",
       "    </tr>\n",
       "  </thead>\n",
       "  <tbody>\n",
       "    <tr>\n",
       "      <th>99832</th>\n",
       "      <td>465943158731293</td>\n",
       "      <td>5775010</td>\n",
       "      <td>F</td>\n",
       "      <td>2016-06-06T08:58:13Z</td>\n",
       "      <td>2016-06-06T00:00:00Z</td>\n",
       "      <td>-1</td>\n",
       "      <td>ROMÃO</td>\n",
       "      <td>0</td>\n",
       "      <td>0</td>\n",
       "      <td>0</td>\n",
       "      <td>0</td>\n",
       "      <td>0</td>\n",
       "      <td>0</td>\n",
       "      <td>No</td>\n",
       "    </tr>\n",
       "  </tbody>\n",
       "</table>\n",
       "</div>"
      ],
      "text/plain": [
       "             PatientId AppointmentId Gender          ScheduledDay  \\\n",
       "99832  465943158731293       5775010      F  2016-06-06T08:58:13Z   \n",
       "\n",
       "             AppointmentDay  Age Neighbourhood  Scholarship  Hipertension  \\\n",
       "99832  2016-06-06T00:00:00Z   -1         ROMÃO            0             0   \n",
       "\n",
       "       Diabetes  Alcoholism  Handcap  SMSReceived NoShow  \n",
       "99832         0           0        0            0     No  "
      ]
     },
     "metadata": {},
     "output_type": "display_data"
    }
   ],
   "source": [
    "########### Fixing the values in the Age column\n",
    "\n",
    "# checking for rows with negative age\n",
    "disp(medical_data[medical_data['Age'] < 0])"
   ]
  },
  {
   "cell_type": "code",
   "execution_count": 7,
   "metadata": {},
   "outputs": [],
   "source": [
    "# Upon investigation it turns out that there is only one row with a negative age (-1)\n",
    "# There are rows with age 0 present but that can be thought of anyone less than age 1 (infant) and is logical.\n",
    "# we will just drop the row with the negative age.\n",
    "medical_data = medical_data.drop([99832], axis = 0)\n",
    "# just to readjust indices we do the following\n",
    "medical_data.index = np.arange(medical_data.shape[0])"
   ]
  },
  {
   "cell_type": "code",
   "execution_count": 8,
   "metadata": {},
   "outputs": [],
   "source": [
    "########### Fixing the values in the no show column\n",
    "\n",
    "# First replacing strings with strings\n",
    "medical_data.loc[medical_data['NoShow']=='Yes','NoShow'] = '1'\n",
    "medical_data.loc[medical_data['NoShow']=='No','NoShow'] = '0'\n",
    "# Then changing type to int\n",
    "medical_data['NoShow'] = medical_data['NoShow'].astype(int)"
   ]
  },
  {
   "cell_type": "code",
   "execution_count": 9,
   "metadata": {},
   "outputs": [],
   "source": [
    "########### Fixing the values in the Handcap column\n",
    "\n",
    "medical_data.loc[medical_data['Handcap'].isin([2,3,4]) , 'Handcap'] = 1"
   ]
  },
  {
   "cell_type": "code",
   "execution_count": 10,
   "metadata": {},
   "outputs": [],
   "source": [
    "########### Changing ScheduledDay column to datetime\n",
    "\n",
    "medical_data['ScheduledDay'] = pd.to_datetime(medical_data['ScheduledDay'])\n",
    "# using brasilia standard time as timezone\n",
    "medical_data['ScheduledDay'] = medical_data['ScheduledDay'].dt.tz_convert('Brazil/East')"
   ]
  },
  {
   "cell_type": "code",
   "execution_count": 11,
   "metadata": {},
   "outputs": [],
   "source": [
    "########### Changing AppointmentDay column to datetime\n",
    "\n",
    "medical_data['AppointmentDay'] = pd.to_datetime(medical_data['AppointmentDay'])\n",
    "# using brasilia standard time as timezone\n",
    "medical_data['AppointmentDay'] = medical_data['AppointmentDay'].dt.tz_convert('Brazil/East')"
   ]
  },
  {
   "cell_type": "code",
   "execution_count": 12,
   "metadata": {},
   "outputs": [],
   "source": [
    "########### Creating and inserting the ScheduledWeekDay column\n",
    "\n",
    "Days_of_week = ['Monday', 'Tuesday', 'Wednesday', 'Thursday', 'Friday', 'Saturday', 'Sunday']\n",
    "ScheduledDayList = []\n",
    "for date in medical_data.ScheduledDay:\n",
    "    ScheduledDayList.append(Days_of_week[date.weekday()])\n",
    "ScheduledDayArray = np.array(ScheduledDayList)\n",
    "medical_data.insert(5, 'ScheduledWeekDay', ScheduledDayArray)"
   ]
  },
  {
   "cell_type": "code",
   "execution_count": 13,
   "metadata": {},
   "outputs": [
    {
     "data": {
      "text/html": [
       "<div>\n",
       "<style scoped>\n",
       "    .dataframe tbody tr th:only-of-type {\n",
       "        vertical-align: middle;\n",
       "    }\n",
       "\n",
       "    .dataframe tbody tr th {\n",
       "        vertical-align: top;\n",
       "    }\n",
       "\n",
       "    .dataframe thead th {\n",
       "        text-align: right;\n",
       "    }\n",
       "</style>\n",
       "<table border=\"1\" class=\"dataframe\">\n",
       "  <thead>\n",
       "    <tr style=\"text-align: right;\">\n",
       "      <th></th>\n",
       "      <th>PatientId</th>\n",
       "      <th>AppointmentId</th>\n",
       "      <th>Gender</th>\n",
       "      <th>ScheduledDay</th>\n",
       "      <th>AppointmentDay</th>\n",
       "      <th>ScheduledWeekDay</th>\n",
       "      <th>Age</th>\n",
       "      <th>Neighbourhood</th>\n",
       "      <th>Scholarship</th>\n",
       "      <th>Hipertension</th>\n",
       "      <th>Diabetes</th>\n",
       "      <th>Alcoholism</th>\n",
       "      <th>Handcap</th>\n",
       "      <th>SMSReceived</th>\n",
       "      <th>NoShow</th>\n",
       "    </tr>\n",
       "  </thead>\n",
       "  <tbody>\n",
       "    <tr>\n",
       "      <th>0</th>\n",
       "      <td>29872499824296</td>\n",
       "      <td>5642903</td>\n",
       "      <td>F</td>\n",
       "      <td>2016-04-29 15:38:08-03:00</td>\n",
       "      <td>2016-04-28 21:00:00-03:00</td>\n",
       "      <td>Friday</td>\n",
       "      <td>62</td>\n",
       "      <td>JARDIM DA PENHA</td>\n",
       "      <td>0</td>\n",
       "      <td>1</td>\n",
       "      <td>0</td>\n",
       "      <td>0</td>\n",
       "      <td>0</td>\n",
       "      <td>0</td>\n",
       "      <td>0</td>\n",
       "    </tr>\n",
       "    <tr>\n",
       "      <th>1</th>\n",
       "      <td>558997776694438</td>\n",
       "      <td>5642503</td>\n",
       "      <td>M</td>\n",
       "      <td>2016-04-29 13:08:27-03:00</td>\n",
       "      <td>2016-04-28 21:00:00-03:00</td>\n",
       "      <td>Friday</td>\n",
       "      <td>56</td>\n",
       "      <td>JARDIM DA PENHA</td>\n",
       "      <td>0</td>\n",
       "      <td>0</td>\n",
       "      <td>0</td>\n",
       "      <td>0</td>\n",
       "      <td>0</td>\n",
       "      <td>0</td>\n",
       "      <td>0</td>\n",
       "    </tr>\n",
       "    <tr>\n",
       "      <th>2</th>\n",
       "      <td>4262962299951</td>\n",
       "      <td>5642549</td>\n",
       "      <td>F</td>\n",
       "      <td>2016-04-29 13:19:04-03:00</td>\n",
       "      <td>2016-04-28 21:00:00-03:00</td>\n",
       "      <td>Friday</td>\n",
       "      <td>62</td>\n",
       "      <td>MATA DA PRAIA</td>\n",
       "      <td>0</td>\n",
       "      <td>0</td>\n",
       "      <td>0</td>\n",
       "      <td>0</td>\n",
       "      <td>0</td>\n",
       "      <td>0</td>\n",
       "      <td>0</td>\n",
       "    </tr>\n",
       "  </tbody>\n",
       "</table>\n",
       "</div>"
      ],
      "text/plain": [
       "         PatientId AppointmentId Gender              ScheduledDay  \\\n",
       "0   29872499824296       5642903      F 2016-04-29 15:38:08-03:00   \n",
       "1  558997776694438       5642503      M 2016-04-29 13:08:27-03:00   \n",
       "2    4262962299951       5642549      F 2016-04-29 13:19:04-03:00   \n",
       "\n",
       "             AppointmentDay ScheduledWeekDay  Age    Neighbourhood  \\\n",
       "0 2016-04-28 21:00:00-03:00           Friday   62  JARDIM DA PENHA   \n",
       "1 2016-04-28 21:00:00-03:00           Friday   56  JARDIM DA PENHA   \n",
       "2 2016-04-28 21:00:00-03:00           Friday   62    MATA DA PRAIA   \n",
       "\n",
       "   Scholarship  Hipertension  Diabetes  Alcoholism  Handcap  SMSReceived  \\\n",
       "0            0             1         0           0        0            0   \n",
       "1            0             0         0           0        0            0   \n",
       "2            0             0         0           0        0            0   \n",
       "\n",
       "   NoShow  \n",
       "0       0  \n",
       "1       0  \n",
       "2       0  "
      ]
     },
     "metadata": {},
     "output_type": "display_data"
    },
    {
     "name": "stdout",
     "output_type": "stream",
     "text": [
      "<class 'pandas.core.frame.DataFrame'>\n",
      "Int64Index: 110526 entries, 0 to 110525\n",
      "Data columns (total 15 columns):\n",
      " #   Column            Non-Null Count   Dtype                      \n",
      "---  ------            --------------   -----                      \n",
      " 0   PatientId         110526 non-null  object                     \n",
      " 1   AppointmentId     110526 non-null  object                     \n",
      " 2   Gender            110526 non-null  object                     \n",
      " 3   ScheduledDay      110526 non-null  datetime64[ns, Brazil/East]\n",
      " 4   AppointmentDay    110526 non-null  datetime64[ns, Brazil/East]\n",
      " 5   ScheduledWeekDay  110526 non-null  object                     \n",
      " 6   Age               110526 non-null  int64                      \n",
      " 7   Neighbourhood     110526 non-null  object                     \n",
      " 8   Scholarship       110526 non-null  int64                      \n",
      " 9   Hipertension      110526 non-null  int64                      \n",
      " 10  Diabetes          110526 non-null  int64                      \n",
      " 11  Alcoholism        110526 non-null  int64                      \n",
      " 12  Handcap           110526 non-null  int64                      \n",
      " 13  SMSReceived       110526 non-null  int64                      \n",
      " 14  NoShow            110526 non-null  int32                      \n",
      "dtypes: datetime64[ns, Brazil/East](2), int32(1), int64(7), object(5)\n",
      "memory usage: 13.1+ MB\n"
     ]
    },
    {
     "data": {
      "text/plain": [
       "None"
      ]
     },
     "metadata": {},
     "output_type": "display_data"
    }
   ],
   "source": [
    "# Examining the changes \n",
    "\n",
    "disp(medical_data.head(3))\n",
    "disp(medical_data.info())"
   ]
  },
  {
   "cell_type": "markdown",
   "metadata": {},
   "source": [
    "<div style=\"background-color:rgba(0, 225, 0, 0.1)\">\n",
    "\n",
    "<a id='eda'></a>\n",
    "## 3) Exploratory Data Analysis\n",
    "\n",
    "Here we address the questions posed earlier. We will do analysis, run statistics and create visulizations to support our answers.\n",
    "\n",
    "</div>"
   ]
  },
  {
   "cell_type": "markdown",
   "metadata": {},
   "source": [
    "<div style=\"background-color:rgba(0, 225, 0, 0.1)\">\n",
    "    \n",
    "### Q1: What fraction of the total appointments made had a no-show? \n",
    "    \n",
    "</div>"
   ]
  },
  {
   "cell_type": "code",
   "execution_count": 17,
   "metadata": {},
   "outputs": [
    {
     "data": {
      "text/plain": [
       "0.7980656135208005"
      ]
     },
     "metadata": {},
     "output_type": "display_data"
    },
    {
     "data": {
      "text/plain": [
       "0.20193438647919945"
      ]
     },
     "metadata": {},
     "output_type": "display_data"
    },
    {
     "data": {
      "image/png": "[encoded data removed]",
      "text/plain": [
       "<Figure size 432x288 with 1 Axes>"
      ]
     },
     "metadata": {
      "needs_background": "light"
     },
     "output_type": "display_data"
    }
   ],
   "source": [
    "# We will get the number of 0s and 1s in the no show column and use the total number of rows to analyze this question\n",
    "\n",
    "num_showed_up = medical_data['NoShow'].value_counts()[0]\n",
    "num_didnt_showed_up = medical_data['NoShow'].value_counts()[1]\n",
    "total_appointments = medical_data.shape[0]\n",
    "fraction_showed_up = num_showed_up/total_appointments\n",
    "fraction_didnt_showed_up = num_didnt_showed_up/total_appointments\n",
    "disp(fraction_showed_up)\n",
    "disp(fraction_didnt_showed_up)\n",
    "\n",
    "# Lets make a bar chart\n",
    "plt.bar(['Showed up', 'Did not show up'], [fraction_showed_up,fraction_didnt_showed_up], color = ['red' , 'blue']);\n",
    "plt.title(\"Fraction of people showing up vs not showing up\")\n",
    "plt.ylabel(\"Fraction\");\n",
    "plt.show()"
   ]
  },
  {
   "cell_type": "markdown",
   "metadata": {},
   "source": [
    "<div style=\"background-color:rgba(255, 0, 0, 0.1)\">\n",
    "    \n",
    "### Q1 Response: \n",
    "Nearly four-fifth of the appointments had people show up and one-fifth ended in no-show, based on the data.\n",
    "    \n",
    "</div>"
   ]
  },
  {
   "cell_type": "markdown",
   "metadata": {},
   "source": [
    "<div style=\"background-color:rgba(0, 225, 0, 0.1)\">\n",
    "    \n",
    "### Q2: How many appointments were made by male and female patients? How likely are each to not show up? \n",
    "    \n",
    "</div>"
   ]
  },
  {
   "cell_type": "code",
   "execution_count": 49,
   "metadata": {},
   "outputs": [
    {
     "data": {
      "text/plain": [
       "'percentage  of appointments made by females: 64.99737618297956%'"
      ]
     },
     "metadata": {},
     "output_type": "display_data"
    },
    {
     "data": {
      "text/plain": [
       "'percentage  of appointments made by males: 35.00262381702043%'"
      ]
     },
     "metadata": {},
     "output_type": "display_data"
    },
    {
     "data": {
      "text/plain": [
       "'likelihood  of females not showing up: 0.20314870752655242%'"
      ]
     },
     "metadata": {},
     "output_type": "display_data"
    },
    {
     "data": {
      "text/plain": [
       "'likelihood  of males ot showing up: 0.19967947889471915%'"
      ]
     },
     "metadata": {},
     "output_type": "display_data"
    },
    {
     "data": {
      "image/png": "[encoded data removed]",
      "text/plain": [
       "<Figure size 432x288 with 1 Axes>"
      ]
     },
     "metadata": {
      "needs_background": "light"
     },
     "output_type": "display_data"
    },
    {
     "data": {
      "image/png": "[encoded data removed]",
      "text/plain": [
       "<Figure size 432x288 with 1 Axes>"
      ]
     },
     "metadata": {
      "needs_background": "light"
     },
     "output_type": "display_data"
    }
   ],
   "source": [
    "# We group the data by male and female to run statistics\n",
    "\n",
    "percent_fem = medical_data.groupby(['Gender'])['NoShow'].count()['F']*100/medical_data.shape[0]\n",
    "percent_male = medical_data.groupby(['Gender'])['NoShow'].count()['M']*100/medical_data.shape[0]\n",
    "disp('percentage  of appointments made by females: {}%'.format(percent_fem))\n",
    "disp('percentage  of appointments made by males: {}%'.format(percent_male))\n",
    "\n",
    "gender_data = medical_data.groupby(['Gender','NoShow'])['NoShow'].count()\n",
    "fem_noshow_likelihood = gender_data[('F',1)]/(gender_data[('F',1)] + gender_data[('F',0)])\n",
    "male_noshow_likelihood = gender_data[('M',1)]/(gender_data[('M',1)] + gender_data[('M',0)])\n",
    "disp('likelihood  of females not showing up: {}%'.format(fem_noshow_likelihood))\n",
    "disp('likelihood  of males not showing up: {}%'.format(male_noshow_likelihood))\n",
    "\n",
    "# Lets create visualization for both analyses\n",
    "\n",
    "plt.figure(0)\n",
    "plt.bar(['female', 'male'], [percent_fem,percent_male], color = ['red' , 'blue'])    \n",
    "plt.title(\"Percentages of appointments by Gender\")\n",
    "plt.xlabel(\"Gender\")\n",
    "plt.ylabel(\"Number of Appointments\");\n",
    "plt.show()\n",
    "\n",
    "# Use plt.figure() to show multiple plots\n",
    "# looks better if years input as strings\n",
    "\n",
    "plt.figure(1)\n",
    "plt.bar(['female', 'male'], [fem_noshow_likelihood,male_noshow_likelihood], color = ['red' , 'blue'])    \n",
    "plt.title(\"Likelihood of not showing up by Gender\")\n",
    "plt.xlabel(\"Gender\")\n",
    "plt.ylabel(\"Likelihood of not showing up\");\n",
    "plt.show()"
   ]
  },
  {
   "cell_type": "markdown",
   "metadata": {},
   "source": [
    "<div style=\"background-color:rgba(255, 0, 0, 0.1)\">\n",
    "    \n",
    "### Q2 Response:\n",
    "\n",
    "First of all, we can see that 65% of appointments were made by females. This might imply that females tend to take better care of their health compared to males. <br><br>\n",
    "As it turns out, based on the data, once an appointment has been made males and females have a nearly equal likelihood (0.2) of not showing up.      \n",
    "</div>"
   ]
  },
  {
   "cell_type": "markdown",
   "metadata": {},
   "source": [
    "<div style=\"background-color:rgba(0, 225, 0, 0.1)\">\n",
    "    \n",
    "### Q3: Does there seem to be any link between age and not showing up? \n",
    "    \n",
    "</div>"
   ]
  },
  {
   "cell_type": "code",
   "execution_count": 51,
   "metadata": {},
   "outputs": [
    {
     "data": {
      "text/html": [
       "<div>\n",
       "<style scoped>\n",
       "    .dataframe tbody tr th:only-of-type {\n",
       "        vertical-align: middle;\n",
       "    }\n",
       "\n",
       "    .dataframe tbody tr th {\n",
       "        vertical-align: top;\n",
       "    }\n",
       "\n",
       "    .dataframe thead th {\n",
       "        text-align: right;\n",
       "    }\n",
       "</style>\n",
       "<table border=\"1\" class=\"dataframe\">\n",
       "  <thead>\n",
       "    <tr style=\"text-align: right;\">\n",
       "      <th></th>\n",
       "      <th>Age</th>\n",
       "      <th>Scholarship</th>\n",
       "      <th>Hipertension</th>\n",
       "      <th>Diabetes</th>\n",
       "      <th>Alcoholism</th>\n",
       "      <th>Handcap</th>\n",
       "      <th>SMSReceived</th>\n",
       "      <th>NoShow</th>\n",
       "    </tr>\n",
       "  </thead>\n",
       "  <tbody>\n",
       "    <tr>\n",
       "      <th>count</th>\n",
       "      <td>110526.000000</td>\n",
       "      <td>110526.000000</td>\n",
       "      <td>110526.000000</td>\n",
       "      <td>110526.000000</td>\n",
       "      <td>110526.000000</td>\n",
       "      <td>110526.000000</td>\n",
       "      <td>110526.000000</td>\n",
       "      <td>110526.000000</td>\n",
       "    </tr>\n",
       "    <tr>\n",
       "      <th>mean</th>\n",
       "      <td>37.089219</td>\n",
       "      <td>0.098266</td>\n",
       "      <td>0.197248</td>\n",
       "      <td>0.071865</td>\n",
       "      <td>0.030400</td>\n",
       "      <td>0.020276</td>\n",
       "      <td>0.321029</td>\n",
       "      <td>0.201934</td>\n",
       "    </tr>\n",
       "    <tr>\n",
       "      <th>std</th>\n",
       "      <td>23.110026</td>\n",
       "      <td>0.297676</td>\n",
       "      <td>0.397923</td>\n",
       "      <td>0.258266</td>\n",
       "      <td>0.171686</td>\n",
       "      <td>0.140943</td>\n",
       "      <td>0.466874</td>\n",
       "      <td>0.401445</td>\n",
       "    </tr>\n",
       "    <tr>\n",
       "      <th>min</th>\n",
       "      <td>0.000000</td>\n",
       "      <td>0.000000</td>\n",
       "      <td>0.000000</td>\n",
       "      <td>0.000000</td>\n",
       "      <td>0.000000</td>\n",
       "      <td>0.000000</td>\n",
       "      <td>0.000000</td>\n",
       "      <td>0.000000</td>\n",
       "    </tr>\n",
       "    <tr>\n",
       "      <th>25%</th>\n",
       "      <td>18.000000</td>\n",
       "      <td>0.000000</td>\n",
       "      <td>0.000000</td>\n",
       "      <td>0.000000</td>\n",
       "      <td>0.000000</td>\n",
       "      <td>0.000000</td>\n",
       "      <td>0.000000</td>\n",
       "      <td>0.000000</td>\n",
       "    </tr>\n",
       "    <tr>\n",
       "      <th>50%</th>\n",
       "      <td>37.000000</td>\n",
       "      <td>0.000000</td>\n",
       "      <td>0.000000</td>\n",
       "      <td>0.000000</td>\n",
       "      <td>0.000000</td>\n",
       "      <td>0.000000</td>\n",
       "      <td>0.000000</td>\n",
       "      <td>0.000000</td>\n",
       "    </tr>\n",
       "    <tr>\n",
       "      <th>75%</th>\n",
       "      <td>55.000000</td>\n",
       "      <td>0.000000</td>\n",
       "      <td>0.000000</td>\n",
       "      <td>0.000000</td>\n",
       "      <td>0.000000</td>\n",
       "      <td>0.000000</td>\n",
       "      <td>1.000000</td>\n",
       "      <td>0.000000</td>\n",
       "    </tr>\n",
       "    <tr>\n",
       "      <th>max</th>\n",
       "      <td>115.000000</td>\n",
       "      <td>1.000000</td>\n",
       "      <td>1.000000</td>\n",
       "      <td>1.000000</td>\n",
       "      <td>1.000000</td>\n",
       "      <td>1.000000</td>\n",
       "      <td>1.000000</td>\n",
       "      <td>1.000000</td>\n",
       "    </tr>\n",
       "  </tbody>\n",
       "</table>\n",
       "</div>"
      ],
      "text/plain": [
       "                 Age    Scholarship   Hipertension       Diabetes  \\\n",
       "count  110526.000000  110526.000000  110526.000000  110526.000000   \n",
       "mean       37.089219       0.098266       0.197248       0.071865   \n",
       "std        23.110026       0.297676       0.397923       0.258266   \n",
       "min         0.000000       0.000000       0.000000       0.000000   \n",
       "25%        18.000000       0.000000       0.000000       0.000000   \n",
       "50%        37.000000       0.000000       0.000000       0.000000   \n",
       "75%        55.000000       0.000000       0.000000       0.000000   \n",
       "max       115.000000       1.000000       1.000000       1.000000   \n",
       "\n",
       "          Alcoholism        Handcap    SMSReceived         NoShow  \n",
       "count  110526.000000  110526.000000  110526.000000  110526.000000  \n",
       "mean        0.030400       0.020276       0.321029       0.201934  \n",
       "std         0.171686       0.140943       0.466874       0.401445  \n",
       "min         0.000000       0.000000       0.000000       0.000000  \n",
       "25%         0.000000       0.000000       0.000000       0.000000  \n",
       "50%         0.000000       0.000000       0.000000       0.000000  \n",
       "75%         0.000000       0.000000       1.000000       0.000000  \n",
       "max         1.000000       1.000000       1.000000       1.000000  "
      ]
     },
     "execution_count": 51,
     "metadata": {},
     "output_type": "execute_result"
    }
   ],
   "source": [
    "medical_data.describe()"
   ]
  },
  {
   "cell_type": "code",
   "execution_count": 85,
   "metadata": {},
   "outputs": [
    {
     "data": {
      "text/plain": [
       "NoShow\n",
       "0    37.790504\n",
       "1    34.317667\n",
       "Name: Age, dtype: float64"
      ]
     },
     "metadata": {},
     "output_type": "display_data"
    },
    {
     "data": {
      "text/html": [
       "<div>\n",
       "<style scoped>\n",
       "    .dataframe tbody tr th:only-of-type {\n",
       "        vertical-align: middle;\n",
       "    }\n",
       "\n",
       "    .dataframe tbody tr th {\n",
       "        vertical-align: top;\n",
       "    }\n",
       "\n",
       "    .dataframe thead th {\n",
       "        text-align: right;\n",
       "    }\n",
       "</style>\n",
       "<table border=\"1\" class=\"dataframe\">\n",
       "  <thead>\n",
       "    <tr style=\"text-align: right;\">\n",
       "      <th></th>\n",
       "      <th>PatientId</th>\n",
       "      <th>AppointmentId</th>\n",
       "      <th>Gender</th>\n",
       "      <th>ScheduledDay</th>\n",
       "      <th>AppointmentDay</th>\n",
       "      <th>ScheduledWeekDay</th>\n",
       "      <th>Age</th>\n",
       "      <th>Neighbourhood</th>\n",
       "      <th>Scholarship</th>\n",
       "      <th>Hipertension</th>\n",
       "      <th>Diabetes</th>\n",
       "      <th>Alcoholism</th>\n",
       "      <th>Handcap</th>\n",
       "      <th>SMSReceived</th>\n",
       "      <th>NoShow</th>\n",
       "      <th>AgeRange</th>\n",
       "    </tr>\n",
       "  </thead>\n",
       "  <tbody>\n",
       "    <tr>\n",
       "      <th>0</th>\n",
       "      <td>29872499824296</td>\n",
       "      <td>5642903</td>\n",
       "      <td>F</td>\n",
       "      <td>2016-04-29 15:38:08-03:00</td>\n",
       "      <td>2016-04-28 21:00:00-03:00</td>\n",
       "      <td>Friday</td>\n",
       "      <td>62</td>\n",
       "      <td>JARDIM DA PENHA</td>\n",
       "      <td>0</td>\n",
       "      <td>1</td>\n",
       "      <td>0</td>\n",
       "      <td>0</td>\n",
       "      <td>0</td>\n",
       "      <td>0</td>\n",
       "      <td>0</td>\n",
       "      <td>Old</td>\n",
       "    </tr>\n",
       "    <tr>\n",
       "      <th>1</th>\n",
       "      <td>558997776694438</td>\n",
       "      <td>5642503</td>\n",
       "      <td>M</td>\n",
       "      <td>2016-04-29 13:08:27-03:00</td>\n",
       "      <td>2016-04-28 21:00:00-03:00</td>\n",
       "      <td>Friday</td>\n",
       "      <td>56</td>\n",
       "      <td>JARDIM DA PENHA</td>\n",
       "      <td>0</td>\n",
       "      <td>0</td>\n",
       "      <td>0</td>\n",
       "      <td>0</td>\n",
       "      <td>0</td>\n",
       "      <td>0</td>\n",
       "      <td>0</td>\n",
       "      <td>Old</td>\n",
       "    </tr>\n",
       "    <tr>\n",
       "      <th>2</th>\n",
       "      <td>4262962299951</td>\n",
       "      <td>5642549</td>\n",
       "      <td>F</td>\n",
       "      <td>2016-04-29 13:19:04-03:00</td>\n",
       "      <td>2016-04-28 21:00:00-03:00</td>\n",
       "      <td>Friday</td>\n",
       "      <td>62</td>\n",
       "      <td>MATA DA PRAIA</td>\n",
       "      <td>0</td>\n",
       "      <td>0</td>\n",
       "      <td>0</td>\n",
       "      <td>0</td>\n",
       "      <td>0</td>\n",
       "      <td>0</td>\n",
       "      <td>0</td>\n",
       "      <td>Old</td>\n",
       "    </tr>\n",
       "  </tbody>\n",
       "</table>\n",
       "</div>"
      ],
      "text/plain": [
       "         PatientId AppointmentId Gender              ScheduledDay  \\\n",
       "0   29872499824296       5642903      F 2016-04-29 15:38:08-03:00   \n",
       "1  558997776694438       5642503      M 2016-04-29 13:08:27-03:00   \n",
       "2    4262962299951       5642549      F 2016-04-29 13:19:04-03:00   \n",
       "\n",
       "             AppointmentDay ScheduledWeekDay  Age    Neighbourhood  \\\n",
       "0 2016-04-28 21:00:00-03:00           Friday   62  JARDIM DA PENHA   \n",
       "1 2016-04-28 21:00:00-03:00           Friday   56  JARDIM DA PENHA   \n",
       "2 2016-04-28 21:00:00-03:00           Friday   62    MATA DA PRAIA   \n",
       "\n",
       "   Scholarship  Hipertension  Diabetes  Alcoholism  Handcap  SMSReceived  \\\n",
       "0            0             1         0           0        0            0   \n",
       "1            0             0         0           0        0            0   \n",
       "2            0             0         0           0        0            0   \n",
       "\n",
       "   NoShow AgeRange  \n",
       "0       0      Old  \n",
       "1       0      Old  \n",
       "2       0      Old  "
      ]
     },
     "metadata": {},
     "output_type": "display_data"
    }
   ],
   "source": [
    "# First lets have a quick look the average ages of people showing up and not showing up\n",
    "\n",
    "disp(medical_data.groupby('NoShow')['Age'].mean())\n",
    "\n",
    "# now lets divide the ages into four bins and investigate likelihood of not showing up for each bin.\n",
    "# We choose the edge values for the ages based on values from the .describe table for the dataset \n",
    "edges = [ 0, 18 ,37 ,55 ,115 ]\n",
    "names = ['Child' ,'Young Adult' ,'Older Adult' ,'Old' ] \n",
    "# Lets create an AgeRange column\n",
    "medical_data['AgeRange'] = pd.cut(medical_data['Age'], edges, labels=names)\n",
    "# Lets check for successful creation of this column\n",
    "disp(medical_data.head(3))"
   ]
  },
  {
   "cell_type": "code",
   "execution_count": 86,
   "metadata": {},
   "outputs": [
    {
     "data": {
      "text/plain": [
       "'likelihood  of a child not showing up: 0.2253721325068109%'"
      ]
     },
     "metadata": {},
     "output_type": "display_data"
    },
    {
     "data": {
      "text/plain": [
       "'likelihood  of a young adult not showing up: 0.23537614678899083%'"
      ]
     },
     "metadata": {},
     "output_type": "display_data"
    },
    {
     "data": {
      "text/plain": [
       "'likelihood  of an older adult not showing up: 0.1953095963725563%'"
      ]
     },
     "metadata": {},
     "output_type": "display_data"
    },
    {
     "data": {
      "text/plain": [
       "'likelihood  of an old person not showing up: 0.1564499709133217%'"
      ]
     },
     "metadata": {},
     "output_type": "display_data"
    },
    {
     "data": {
      "image/png": "[encoded data removed]",
      "text/plain": [
       "<Figure size 432x288 with 1 Axes>"
      ]
     },
     "metadata": {
      "needs_background": "light"
     },
     "output_type": "display_data"
    },
    {
     "data": {
      "image/png": "[encoded data removed]",
      "text/plain": [
       "<Figure size 432x288 with 1 Axes>"
      ]
     },
     "metadata": {
      "needs_background": "light"
     },
     "output_type": "display_data"
    }
   ],
   "source": [
    "# Now lets the likelihood of no show for each age range\n",
    "age_data = medical_data.groupby(['AgeRange','NoShow'])['NoShow'].count()\n",
    "child_noshow_likelihood = age_data[('Child',1)]/(age_data[('Child',1)] + age_data[('Child',0)])\n",
    "yadult_noshow_likelihood = age_data[('Young Adult',1)]/(age_data[('Young Adult',1)] + age_data[('Young Adult',0)])\n",
    "oadult_noshow_likelihood = age_data[('Older Adult',1)]/(age_data[('Older Adult',1)] + age_data[('Older Adult',0)])\n",
    "old_noshow_likelihood = age_data[('Old',1)]/(age_data[('Old',1)] + age_data[('Old',0)])\n",
    "disp('likelihood  of a child not showing up: {}%'.format(child_noshow_likelihood))\n",
    "disp('likelihood  of a young adult not showing up: {}%'.format(yadult_noshow_likelihood))\n",
    "disp('likelihood  of an older adult not showing up: {}%'.format(oadult_noshow_likelihood))\n",
    "disp('likelihood  of an old person not showing up: {}%'.format(old_noshow_likelihood))\n",
    "\n",
    "# We can also look at a histogram of the age data \n",
    "plt.figure(0)\n",
    "plt.hist(medical_data.Age, color = ['red' ])    \n",
    "plt.title('Distribution of age of patients')\n",
    "plt.xlabel(\"Age\")\n",
    "plt.ylabel(\"Number of Patients\");\n",
    "plt.show()\n",
    "\n",
    "# Then the likelihood of no show can be observed in a bar chart\n",
    "likelihoods = [child_noshow_likelihood, yadult_noshow_likelihood, oadult_noshow_likelihood, old_noshow_likelihood]\n",
    "plt.figure(1)\n",
    "plt.bar(['Child' ,'Young Adult' ,'Older Adult' ,'Old' ], likelihoods, color = ['red', 'blue' ])    \n",
    "plt.title('Likelihood of not showing up for different age ranges')\n",
    "plt.xlabel(\"Age\")\n",
    "plt.ylabel(\"Likelihood of not showing up\");\n",
    "plt.show()"
   ]
  },
  {
   "cell_type": "markdown",
   "metadata": {},
   "source": [
    "<div style=\"background-color:rgba(255, 0, 0, 0.1)\">\n",
    "    \n",
    "### Q3 Response: \n",
    "\n",
    "Firstly we can observe from the histogram that most frequent appointments involve children. <br><br>\n",
    "By rounding up numbers, we can see that the average age of patients showing up is 38 while its 34 for people not showing up. This might suggest that older people show up more often, but further investigation is needed. <br><br>\n",
    "Upon investigating further we find out that the likelihood of showing up does seem to increase with age. Data suggests that young adults are most likely to not show up, which makes sense, due to busy lifestyle in that age.\n",
    "    \n",
    "</div>"
   ]
  },
  {
   "cell_type": "markdown",
   "metadata": {},
   "source": [
    "<div style=\"background-color:rgba(0, 225, 0, 0.1)\">\n",
    "    \n",
    "### Q4: Which are the top ten neighbourhoods by number of appointments made? Which of these neighborhoods had the highest propotion of appointments made by patients with a scholarship? Which one had lowest?\n",
    "    \n",
    "</div>"
   ]
  },
  {
   "cell_type": "code",
   "execution_count": 210,
   "metadata": {},
   "outputs": [
    {
     "data": {
      "text/plain": [
       "'maximum scholarship propotion is 0.171455938697318'"
      ]
     },
     "metadata": {},
     "output_type": "display_data"
    },
    {
     "data": {
      "text/plain": [
       "'minimum scholarship propotion is 0.002837245292752128'"
      ]
     },
     "metadata": {},
     "output_type": "display_data"
    },
    {
     "data": {
      "image/png": "[encoded data removed]",
      "text/plain": [
       "<Figure size 432x288 with 1 Axes>"
      ]
     },
     "metadata": {
      "needs_background": "light"
     },
     "output_type": "display_data"
    }
   ],
   "source": [
    "# Lets separate the top ten into a new dataframe \n",
    "\n",
    "top_ten = medical_data['Neighbourhood'].value_counts()[0:10]\n",
    "top_ten_df = medical_data[medical_data['Neighbourhood'].isin(top_ten.index)]\n",
    "# Now lets get the propotion of appointments with a scholarship for each\n",
    "\n",
    "scholarship_propotions = top_ten.copy()\n",
    "scholarship_propotions = scholarship_propotions.astype(float) # to be able to save decimals in the loop\n",
    "top_ten_data = top_ten_df.groupby(['Neighbourhood','Scholarship'])['Scholarship'].count()\n",
    "for neighbourhood in top_ten.index:\n",
    "    scholarship_propotion = top_ten_data[(neighbourhood,1)]/(top_ten_data[(neighbourhood,1)] + top_ten_data[(neighbourhood,0)])\n",
    "    scholarship_propotions[neighbourhood] = scholarship_propotion\n",
    "disp('maximum scholarship propotion is {}'.format(scholarship_propotions.max()))\n",
    "disp('minimum scholarship propotion is {}'.format(scholarship_propotions.min()))\n",
    "\n",
    "# Lets visualize the scatter plot of number of appointments in the ten regions and the number of scholarships\n",
    "plt.scatter(top_ten, top_ten_data[:,1], alpha = 1, color = 'red')\n",
    "plt.title('appointments with scholarship  vs. number of appointments for top ten regions')\n",
    "plt.xlabel(\"Number of Appointements\")\n",
    "plt.ylabel(\"Appointments with Scholarship\");"
   ]
  },
  {
   "cell_type": "markdown",
   "metadata": {},
   "source": [
    "<div style=\"background-color:rgba(255, 0, 0, 0.1)\">\n",
    "    \n",
    "### scatter plot comments: \n",
    "    \n",
    "there seems to be no visbile correlation between the total number of appointments and number of appointments with scholarship from the scatter plot.\n",
    "    \n",
    "</div>"
   ]
  },
  {
   "cell_type": "code",
   "execution_count": 144,
   "metadata": {},
   "outputs": [
    {
     "data": {
      "image/png": "[encoded data removed]",
      "text/plain": [
       "<Figure size 576x576 with 1 Axes>"
      ]
     },
     "metadata": {},
     "output_type": "display_data"
    },
    {
     "data": {
      "image/png": "[encoded data removed]",
      "text/plain": [
       "<Figure size 864x576 with 1 Axes>"
      ]
     },
     "metadata": {
      "needs_background": "light"
     },
     "output_type": "display_data"
    }
   ],
   "source": [
    "# Lets visualize the top ten neighbourhoods by number of appointments in a pie chart\n",
    "plt.figure(figsize=(8,8))\n",
    "plt.pie(top_ten, labels = top_ten.index)\n",
    "plt.title('Pie chart for number of appointments for the top ten neighbourhoods')\n",
    "\n",
    "# Lets visualize the propotions\n",
    "plt.figure(figsize=(12,8))\n",
    "plt.xticks(rotation=45)\n",
    "plt.bar(scholarship_propotions.index, scholarship_propotions, color = ['red', 'blue' ])    \n",
    "plt.title('Propotion of appointments with scholarship program for various neighbourhoods')\n",
    "plt.xlabel(\"Neighbourhood\")\n",
    "plt.ylabel(\"Propotions\")\n",
    "plt.show()"
   ]
  },
  {
   "cell_type": "code",
   "execution_count": 229,
   "metadata": {},
   "outputs": [
    {
     "data": {
      "text/plain": [
       "SMSReceived  NoShow\n",
       "0            0         62509\n",
       "             1         12535\n",
       "1            0         25698\n",
       "             1          9784\n",
       "Name: NoShow, dtype: int64"
      ]
     },
     "metadata": {},
     "output_type": "display_data"
    },
    {
     "data": {
      "text/plain": [
       "'likelihood  of showing up if dont have scholarship: 0.8019264536196258%'"
      ]
     },
     "metadata": {},
     "output_type": "display_data"
    },
    {
     "data": {
      "text/plain": [
       "'likelihood  of showing up if have scholarship: 0.7626369579228433%'"
      ]
     },
     "metadata": {},
     "output_type": "display_data"
    }
   ],
   "source": [
    "# Lets also see if havinga scholarhip increases chances of showing up\n",
    "\n",
    "schol_data = medical_data.groupby(['Scholarship','NoShow'])['NoShow'].count()\n",
    "disp(SMS_data)\n",
    "noSchol_likelihood = schol_data[(0,0)]/(schol_data[(0,1)] + schol_data[(0,0)])\n",
    "schol_likelihood = schol_data[(1,0)]/(schol_data[(1,1)] + schol_data[(1,0)])\n",
    "disp('likelihood  of showing up if dont have scholarship: {}%'.format(noSchol_likelihood))\n",
    "disp('likelihood  of showing up if have scholarship: {}%'.format(schol_likelihood))"
   ]
  },
  {
   "cell_type": "markdown",
   "metadata": {},
   "source": [
    "<div style=\"background-color:rgba(255, 0, 0, 0.1)\">\n",
    "    \n",
    "### Q4 Response: \n",
    "    \n",
    "The names of the top ten neighbourhoods by number of appointments can be seen in the chart above. <br><br>\n",
    "'TABUAZEIRO' is the neighbourhood with th highest propotion of appointments with a scholarship program having a value of 17.14%. <br><br>\n",
    "'JARDIM DA PENHA' is the one with the least propotion of 0.28%. <br> <br>\n",
    "Combining our observations from both the charts, The neighbourhoods with most appointments tend to have least number of people with scholarships, with an exception of RESISTENCIA.<br><br>\n",
    "After doing some statistics, evidence could not be found that presence of scholarship will considerably increase the probability of patient showing up. \n",
    "    \n",
    "</div>"
   ]
  },
  {
   "cell_type": "code",
   "execution_count": 222,
   "metadata": {},
   "outputs": [
    {
     "data": {
      "text/plain": [
       "SMSReceived  NoShow\n",
       "0            0         62509\n",
       "             1         12535\n",
       "1            0         25698\n",
       "             1          9784\n",
       "Name: NoShow, dtype: int64"
      ]
     },
     "metadata": {},
     "output_type": "display_data"
    },
    {
     "data": {
      "text/plain": [
       "'likelihood  of not showing up without SMS: 0.19807354638037425%'"
      ]
     },
     "metadata": {},
     "output_type": "display_data"
    },
    {
     "data": {
      "text/plain": [
       "'likelihood  of not showing up with SMS: 0.2373630420771568%'"
      ]
     },
     "metadata": {},
     "output_type": "display_data"
    }
   ],
   "source": []
  },
  {
   "cell_type": "markdown",
   "metadata": {},
   "source": [
    "<div style=\"background-color:rgba(0, 225, 0, 0.1)\">\n",
    "    \n",
    "### Q5: Is receiving SMS effective in making sure the appointment is not missed? \n",
    "    \n",
    "</div>\n",
    "\n"
   ]
  },
  {
   "cell_type": "code",
   "execution_count": 146,
   "metadata": {},
   "outputs": [
    {
     "data": {
      "text/plain": [
       "SMSReceived  NoShow\n",
       "0            0         62509\n",
       "             1         12535\n",
       "1            0         25698\n",
       "             1          9784\n",
       "Name: NoShow, dtype: int64"
      ]
     },
     "metadata": {},
     "output_type": "display_data"
    },
    {
     "data": {
      "text/plain": [
       "'likelihood  of not showing up without SMS: 0.16703533926762965%'"
      ]
     },
     "metadata": {},
     "output_type": "display_data"
    },
    {
     "data": {
      "text/plain": [
       "'likelihood  of not showing up with SMS: 0.27574544839637%'"
      ]
     },
     "metadata": {},
     "output_type": "display_data"
    },
    {
     "data": {
      "image/png": "[encoded data removed]",
      "text/plain": [
       "<Figure size 432x288 with 1 Axes>"
      ]
     },
     "metadata": {
      "needs_background": "light"
     },
     "output_type": "display_data"
    }
   ],
   "source": [
    "# Lets group data by SMSReceived\n",
    "\n",
    "SMS_data = medical_data.groupby(['SMSReceived','NoShow'])['NoShow'].count()\n",
    "disp(SMS_data)\n",
    "noSMS_likelihood = SMS_data[(0,1)]/(SMS_data[(0,1)] + SMS_data[(0,0)])\n",
    "SMS_likelihood = SMS_data[(1,1)]/(SMS_data[(1,1)] + SMS_data[(1,0)])\n",
    "disp('likelihood  of not showing up without SMS: {}%'.format(noSMS_likelihood))\n",
    "disp('likelihood  of not showing up with SMS: {}%'.format(SMS_likelihood))\n",
    "\n",
    "# Lets create visualization for both analyses\n",
    "\n",
    "plt.figure(0)\n",
    "plt.bar(['SMS not sent', 'SMS sent'], [noSMS_likelihood,SMS_likelihood], color = ['red' , 'blue'])    \n",
    "plt.title(\"Likelihood of not showing up with and without SMS\")\n",
    "plt.ylabel(\"Likelihood of not showing up\");\n",
    "plt.show()"
   ]
  },
  {
   "cell_type": "markdown",
   "metadata": {},
   "source": [
    "<div style=\"background-color:rgba(255, 0, 0, 0.1)\">\n",
    "    \n",
    "### Q5 Response: \n",
    "    \n",
    "Very surprisingly, A bigger propotion of patients did not show up when SMS was received. <br><br>\n",
    "It can not be claimed that sending SMS caused the no show. But still, we could not find evidence that sending SMS is effective in making sure that an appointment is not missed. \n",
    "    \n",
    "</div>"
   ]
  },
  {
   "cell_type": "markdown",
   "metadata": {},
   "source": [
    "<div style=\"background-color:rgba(0, 225, 0, 0.1)\">\n",
    "    \n",
    "### Q6: Investigate the effect of any disabilities on no-show trends. Out of the four disabilities (hipertension, diabetes, alchoholism, handicapped), which might be the most major factor causing no-show?\n",
    "    \n",
    "</div>"
   ]
  },
  {
   "cell_type": "code",
   "execution_count": 246,
   "metadata": {},
   "outputs": [
    {
     "data": {
      "text/plain": [
       "0    84114\n",
       "1    18123\n",
       "2     7658\n",
       "3      618\n",
       "4       13\n",
       "Name: Disability, dtype: int64"
      ]
     },
     "metadata": {},
     "output_type": "display_data"
    },
    {
     "data": {
      "image/png": "[encoded data removed]",
      "text/plain": [
       "<Figure size 432x288 with 1 Axes>"
      ]
     },
     "metadata": {
      "needs_background": "light"
     },
     "output_type": "display_data"
    },
    {
     "data": {
      "text/plain": [
       "Disability  NoShow\n",
       "0           0         66511\n",
       "            1         17603\n",
       "1           0         14874\n",
       "            1          3249\n",
       "2           0          6290\n",
       "            1          1368\n",
       "3           0           523\n",
       "            1            95\n",
       "4           0             9\n",
       "            1             4\n",
       "Name: NoShow, dtype: int64"
      ]
     },
     "metadata": {},
     "output_type": "display_data"
    },
    {
     "data": {
      "text/plain": [
       "[0.209275507049956,\n",
       " 0.17927495447773548,\n",
       " 0.17863671977017498,\n",
       " 0.15372168284789645,\n",
       " 0.3076923076923077]"
      ]
     },
     "metadata": {},
     "output_type": "display_data"
    },
    {
     "data": {
      "image/png": "[encoded data removed]",
      "text/plain": [
       "<Figure size 432x288 with 1 Axes>"
      ]
     },
     "metadata": {
      "needs_background": "light"
     },
     "output_type": "display_data"
    }
   ],
   "source": [
    "# First lets observe no show trends for patients with and without any disabilities\n",
    "\n",
    "# Lets separate partients ability who dont have any disability and patients have one.\n",
    "# We can conveniently do this by making a column called Disability that simply takes the OR of all four disabilities.\n",
    "\n",
    "medical_data['Disability']  = medical_data['Hipertension'] + medical_data['Diabetes'] + medical_data['Alcoholism'] + medical_data['Handcap']\n",
    "\n",
    "disability_counts = medical_data['Disability'].value_counts()\n",
    "disp(disability_counts)\n",
    "\n",
    "# Lets visualize cases with one or more disabilities\n",
    "plt.bar(disability_counts.index, disability_counts, color = ['red', 'blue' ])    \n",
    "plt.title('Counts for appointments with disabilities')\n",
    "plt.xlabel(\"Number of disabilities\")\n",
    "plt.ylabel(\"Number of appointments\")\n",
    "plt.show()\n",
    "\n",
    "# Now we check for probability of no show for each number of disabilities\n",
    "disability_data = medical_data.groupby(['Disability','NoShow'])['NoShow'].count()\n",
    "disp(disability_data)\n",
    "no_disab_noshow_likelihood = disability_data[(0,1)]/(disability_data[(0,1)] + disability_data[(0,0)])\n",
    "one_disab_noshow_likelihood = disability_data[(1,1)]/(disability_data[(1,1)] + disability_data[(1,0)])\n",
    "two_disab_noshow_likelihood = disability_data[(2,1)]/(disability_data[(2,1)] + disability_data[(2,0)])\n",
    "three_disab_noshow_likelihood = disability_data[(3,1)]/(disability_data[(3,1)] + disability_data[(3,0)])\n",
    "four_disab_noshow_likelihood = disability_data[(4,1)]/(disability_data[(4,1)] + disability_data[(4,0)])\n",
    "\n",
    "disability_count_list = [0,1,2,3,4]\n",
    "noshow_prob_list = [no_disab_noshow_likelihood,one_disab_noshow_likelihood,two_disab_noshow_likelihood,three_disab_noshow_likelihood,four_disab_noshow_likelihood]\n",
    "disp(noshow_prob_list)\n",
    "plt.plot(disability_count_list,noshow_prob_list, color = 'red');\n",
    "plt.title('Probability of no-show vs. number of disabilities')\n",
    "plt.xlabel(\"Number of disabilities\")\n",
    "plt.ylabel(\"Probability of no-show\")\n",
    "plt.show()"
   ]
  },
  {
   "cell_type": "markdown",
   "metadata": {},
   "source": [
    "<div style=\"background-color:rgba(0, 225, 0, 0.1)\">\n",
    "\n",
    "### Comments\n",
    "By looking at the plot above, it seems as the number of disbabilties increases, the likelihood of skipping apppointment decreases. Untill we reach maximum number of four, in which case probability of no show shoots up.\n",
    "    \n",
    "</div>"
   ]
  },
  {
   "cell_type": "markdown",
   "metadata": {},
   "source": [
    "<div style=\"background-color:rgba(0, 225, 0, 0.1)\">\n",
    "\n",
    "***To analyze individual disabilities, for accuracy, we only take the cases where patient suffers from a single disability.***\n",
    "    \n",
    "</div>"
   ]
  },
  {
   "cell_type": "code",
   "execution_count": 241,
   "metadata": {},
   "outputs": [
    {
     "data": {
      "text/plain": [
       "'probability of an appointment with patient having only hipertension: 0.7539038790487226'"
      ]
     },
     "metadata": {},
     "output_type": "display_data"
    },
    {
     "data": {
      "text/plain": [
       "'probability of an appointment with patient having only diabetes: 0.07399437179274955'"
      ]
     },
     "metadata": {},
     "output_type": "display_data"
    },
    {
     "data": {
      "text/plain": [
       "'probability of an appointment with patient with only alcoholism: 0.10605308171936213'"
      ]
     },
     "metadata": {},
     "output_type": "display_data"
    },
    {
     "data": {
      "text/plain": [
       "'probability of an appointment with only a handicapped patient: 0.0660486674391657'"
      ]
     },
     "metadata": {},
     "output_type": "display_data"
    }
   ],
   "source": [
    "# taking a look at value counts for various disabilities\n",
    "\n",
    "hypertension_data = medical_data[medical_data['Disability'] == 1]['Hipertension'].value_counts()\n",
    "diabetes_data = medical_data[medical_data['Disability'] == 1]['Diabetes'].value_counts()\n",
    "alcoholism_data = medical_data[medical_data['Disability'] == 1]['Alcoholism'].value_counts()\n",
    "handicapped_data = medical_data[medical_data['Disability'] == 1]['Handcap'].value_counts()\n",
    "\n",
    "# calculating the probabilities of someone having specific disabilities (strictly based on the dataset).\n",
    "prob_hipertension = hypertension_data[1]/(hypertension_data[1] + hypertension_data[0])\n",
    "prob_diabetes = diabetes_data[1]/(diabetes_data[1] + diabetes_data[0])\n",
    "prob_alcoholism = alcoholism_data[1]/(alcoholism_data[1] + alcoholism_data[0])\n",
    "prob_handicapped = handicapped_data[1]/(handicapped_data[1] + handicapped_data[0])\n",
    "disp('probability of an appointment with patient having only hipertension: {}'.format(prob_hipertension))\n",
    "disp('probability of an appointment with patient having only diabetes: {}'.format(prob_diabetes))\n",
    "disp('probability of an appointment with patient with only alcoholism: {}'.format(prob_alcoholism))\n",
    "disp('probability of an appointment with only a handicapped patient: {}'.format(prob_handicapped))"
   ]
  },
  {
   "cell_type": "code",
   "execution_count": 248,
   "metadata": {},
   "outputs": [
    {
     "data": {
      "text/plain": [
       "Hipertension  NoShow\n",
       "0             0          3536\n",
       "              1           924\n",
       "1             0         11338\n",
       "              1          2325\n",
       "Name: NoShow, dtype: int64"
      ]
     },
     "metadata": {},
     "output_type": "display_data"
    },
    {
     "data": {
      "text/plain": [
       "Diabetes  NoShow\n",
       "0         0         13806\n",
       "          1          2976\n",
       "1         0          1068\n",
       "          1           273\n",
       "Name: NoShow, dtype: int64"
      ]
     },
     "metadata": {},
     "output_type": "display_data"
    },
    {
     "data": {
      "text/plain": [
       "Alcoholism  NoShow\n",
       "0           0         13368\n",
       "            1          2833\n",
       "1           0          1506\n",
       "            1           416\n",
       "Name: NoShow, dtype: int64"
      ]
     },
     "metadata": {},
     "output_type": "display_data"
    },
    {
     "data": {
      "text/plain": [
       "Handcap  NoShow\n",
       "0        0         13912\n",
       "         1          3014\n",
       "1        0           962\n",
       "         1           235\n",
       "Name: NoShow, dtype: int64"
      ]
     },
     "metadata": {},
     "output_type": "display_data"
    },
    {
     "data": {
      "text/plain": [
       "'likelihood  of not showing when has hypertension: 0.17016760594305788%'"
      ]
     },
     "metadata": {},
     "output_type": "display_data"
    },
    {
     "data": {
      "text/plain": [
       "'likelihood  of not showing when has diabetes: 0.203579418344519%'"
      ]
     },
     "metadata": {},
     "output_type": "display_data"
    },
    {
     "data": {
      "text/plain": [
       "'likelihood  of not showing when has alcoholism: 0.21644120707596254%'"
      ]
     },
     "metadata": {},
     "output_type": "display_data"
    },
    {
     "data": {
      "text/plain": [
       "'likelihood  of not showing when is handicapped: 0.19632414369256473%'"
      ]
     },
     "metadata": {},
     "output_type": "display_data"
    },
    {
     "data": {
      "image/png": "[encoded data removed]",
      "text/plain": [
       "<Figure size 432x288 with 1 Axes>"
      ]
     },
     "metadata": {
      "needs_background": "light"
     },
     "output_type": "display_data"
    }
   ],
   "source": [
    "# Next we find probabilities of no show given the patient has each of the disabilities.\n",
    "\n",
    "hypertension_data =  medical_data[medical_data['Disability'] == 1].groupby(['Hipertension','NoShow'])['NoShow'].count()\n",
    "diabetes_data =  medical_data[medical_data['Disability'] == 1].groupby(['Diabetes','NoShow'])['NoShow'].count()\n",
    "alcoholism_data =  medical_data[medical_data['Disability'] == 1].groupby(['Alcoholism','NoShow'])['NoShow'].count()\n",
    "handicapped_data =  medical_data[medical_data['Disability'] == 1].groupby(['Handcap','NoShow'])['NoShow'].count()\n",
    "\n",
    "# Calculating probabilities of no show for each disability\n",
    "disp(hypertension_data)\n",
    "disp(diabetes_data)\n",
    "disp(alcoholism_data)\n",
    "disp(handicapped_data)\n",
    "\n",
    "hypertension_noshow_likelihood = hypertension_data[(1,1)]/(hypertension_data[(1,1)] + hypertension_data[(1,0)])\n",
    "diabetes_noshow_likelihood = diabetes_data[(1,1)]/(diabetes_data[(1,1)] + diabetes_data[(1,0)])\n",
    "alcoholism_noshow_likelihood = alcoholism_data[(1,1)]/(alcoholism_data[(1,1)] + alcoholism_data[(1,0)])\n",
    "handicapped_noshow_likelihood = handicapped_data[(1,1)]/(handicapped_data[(1,1)] + handicapped_data[(1,0)])\n",
    "\n",
    "disp('likelihood  of not showing when has hypertension: {}%'.format(hypertension_noshow_likelihood))\n",
    "disp('likelihood  of not showing when has diabetes: {}%'.format(diabetes_noshow_likelihood))\n",
    "disp('likelihood  of not showing when has alcoholism: {}%'.format(alcoholism_noshow_likelihood))\n",
    "disp('likelihood  of not showing when is handicapped: {}%'.format(handicapped_noshow_likelihood))\n",
    "\n",
    "# Lets visualize probabilities for different disabilities\n",
    "disabilities = ['hypertension', 'diabetes', 'alcoholism','handicapped' ]\n",
    "prob_disabilities = [hypertension_noshow_likelihood, diabetes_noshow_likelihood, alcoholism_noshow_likelihood, handicapped_noshow_likelihood]\n",
    "plt.bar(disabilities, prob_disabilities, color = ['red', 'blue' ])    \n",
    "plt.title('Probabilities of no show fo various disabilities')\n",
    "plt.ylabel(\"Probability of no-show\")\n",
    "plt.show()"
   ]
  },
  {
   "cell_type": "markdown",
   "metadata": {},
   "source": [
    "<div style=\"background-color:rgba(255, 0, 0, 0.1)\">\n",
    "    \n",
    "### Q6 Response:\n",
    "    \n",
    "First major thing to note is that Hipertension is the most frequently observed disability with nearly one-fifth the appointments having it.<br><br>\n",
    "Alcoholism is the disability with the highest no show probability of 22%. <br> <br>\n",
    "Now all disabilities have more or less similar effect on noshow probability (close to 20%) , but there are far more appointments with hypertension compared to others. It is a reasonable conclusion that hypertension is the most major disability affecting the noshow numbers.\n",
    "    \n",
    "</div>"
   ]
  },
  {
   "cell_type": "markdown",
   "metadata": {},
   "source": [
    "<div style=\"background-color:rgba(0, 225, 0, 0.1)\">\n",
    "    \n",
    "### Q7: Among patients who booked more than ten appointments, how many never missed an appointment?\n",
    "    \n",
    "</div>"
   ]
  },
  {
   "cell_type": "code",
   "execution_count": 164,
   "metadata": {},
   "outputs": [
    {
     "data": {
      "text/plain": [
       "110526"
      ]
     },
     "metadata": {},
     "output_type": "display_data"
    },
    {
     "data": {
      "text/plain": [
       "48228"
      ]
     },
     "metadata": {},
     "output_type": "display_data"
    }
   ],
   "source": [
    "# First lets check to see if there are any patients with repeating appointments\n",
    "\n",
    "disp(medical_data.AppointmentId.nunique())\n",
    "disp(medical_data.AppointmentId.nunique() - medical_data.PatientId.nunique())"
   ]
  },
  {
   "cell_type": "code",
   "execution_count": 200,
   "metadata": {},
   "outputs": [
    {
     "data": {
      "text/plain": [
       "'Number of patients with more than ten appointments: 248'"
      ]
     },
     "metadata": {},
     "output_type": "display_data"
    },
    {
     "data": {
      "text/plain": [
       "'Number of patients who have never missed an appointment: 197'"
      ]
     },
     "metadata": {},
     "output_type": "display_data"
    }
   ],
   "source": [
    "# Lets find out which patients have more than ten appointments\n",
    "\n",
    "duplicate_counts = medical_data.pivot_table(index = ['PatientId'], aggfunc ='size') \n",
    "duplicate_counts = duplicate_counts[duplicate_counts > 10]\n",
    "disp('Number of patients with more than ten appointments: {}'.format(duplicate_counts.index.nunique()))\n",
    "\n",
    "# extracting the relevant data in a new dataframe\n",
    "ten_plus_appointments = medical_data[medical_data['PatientId'].isin(duplicate_counts.index)]\n",
    "misscounter = 0\n",
    "for patient_id in duplicate_counts.index:\n",
    "    if sum(ten_plus_appointments[ten_plus_appointments['PatientId'] == patient_id]['NoShow'].isin([1])):\n",
    "        misscounter = misscounter + 1\n",
    "disp('Number of patients who have never missed an appointment: {}'.format(misscounter))\n"
   ]
  },
  {
   "cell_type": "markdown",
   "metadata": {},
   "source": [
    "<div style=\"background-color:rgba(255, 0, 0, 0.1)\">\n",
    "    \n",
    "### Q7 Response:\n",
    "   \n",
    "It can be seen that there are as many appointment Ids as the number of rows and there are 48228 more unique appointment Ids that patients Ids, which means that there are patients with multiple appointments present in the database. <br><br>\n",
    "By investigating further we find out that there are 248 patients with more than 10 appointments. <br><br>\n",
    "Finally after doing some manipulation it can be seen that out of the 248 patients with more than ten appointments, 197 have never missed an appointment.\n",
    "    \n",
    "</div>"
   ]
  },
  {
   "cell_type": "markdown",
   "metadata": {},
   "source": [
    "<div style=\"background-color:rgba(0, 225, 0, 0.1)\">\n",
    "    \n",
    "### Q8: Compare and contrast the no-show trends based on different days of the week.\n",
    "    \n",
    "</div>"
   ]
  },
  {
   "cell_type": "code",
   "execution_count": 219,
   "metadata": {},
   "outputs": [
    {
     "data": {
      "text/plain": [
       "Tuesday      26168\n",
       "Wednesday    24262\n",
       "Monday       23084\n",
       "Friday       18915\n",
       "Thursday     18073\n",
       "Saturday        24\n",
       "Name: ScheduledWeekDay, dtype: int64"
      ]
     },
     "metadata": {},
     "output_type": "display_data"
    },
    {
     "data": {
      "text/plain": [
       "Text(0.5, 1.0, 'Pie chart for number of appointments by day of the week')"
      ]
     },
     "execution_count": 219,
     "metadata": {},
     "output_type": "execute_result"
    },
    {
     "data": {
      "image/png": "[encoded data removed]",
      "text/plain": [
       "<Figure size 576x576 with 1 Axes>"
      ]
     },
     "metadata": {},
     "output_type": "display_data"
    }
   ],
   "source": [
    "# Lets first get the number of appointment by day of the week\n",
    "\n",
    "week_day_count = medical_data['ScheduledWeekDay'].value_counts()\n",
    "disp(week_day_count)\n",
    "\n",
    "# Lets Visualize this in a pie chart\n",
    "plt.figure(figsize=(8,8))\n",
    "plt.pie(week_day_count, labels = week_day_count.index);\n",
    "plt.title('Pie chart for number of appointments by day of the week')"
   ]
  },
  {
   "cell_type": "code",
   "execution_count": 220,
   "metadata": {},
   "outputs": [
    {
     "data": {
      "text/plain": [
       "ScheduledWeekDay  NoShow\n",
       "Friday            0         15028\n",
       "                  1          3887\n",
       "Monday            0         18523\n",
       "                  1          4561\n",
       "Saturday          0            23\n",
       "                  1             1\n",
       "Thursday          0         14373\n",
       "                  1          3700\n",
       "Tuesday           0         20877\n",
       "                  1          5291\n",
       "Wednesday         0         19383\n",
       "                  1          4879\n",
       "Name: NoShow, dtype: int64"
      ]
     },
     "metadata": {},
     "output_type": "display_data"
    },
    {
     "data": {
      "text/plain": [
       "3.9904283483809655"
      ]
     },
     "metadata": {},
     "output_type": "display_data"
    },
    {
     "data": {
      "text/plain": [
       "3.8777016341591986"
      ]
     },
     "metadata": {},
     "output_type": "display_data"
    },
    {
     "data": {
      "image/png": "[encoded data removed]",
      "text/plain": [
       "<Figure size 432x288 with 1 Axes>"
      ]
     },
     "metadata": {
      "needs_background": "light"
     },
     "output_type": "display_data"
    }
   ],
   "source": [
    "# Now lets investigate if there is a pattern between number of people keeping their appointments based on day of the week\n",
    "\n",
    "week_day_data = medical_data.groupby('ScheduledWeekDay')['NoShow'].value_counts()\n",
    "disp(week_day_data)\n",
    "\n",
    "# Lets observe the ratio of people showing up to people not showing up based on \n",
    "# start (Monday, Tuesday, Wednesday) and end (Thursday, Friday, Saturday) of the week\n",
    "show_start = week_day_data[('Monday',0)] + week_day_data[('Tuesday',0)] + week_day_data[('Wednesday',0)]\n",
    "noshow_start = week_day_data[('Monday',1)] + week_day_data[('Tuesday',1)] + week_day_data[('Wednesday',1)]\n",
    "show_end = week_day_data[('Thursday',0)] + week_day_data[('Friday',0)] + week_day_data[('Saturday',0)]\n",
    "noshow_end = week_day_data[('Thursday',1)] + week_day_data[('Friday',1)] + week_day_data[('Saturday',1)]\n",
    "start_ratio = show_start/noshow_start\n",
    "end_ratio = show_end/noshow_end\n",
    "disp(start_ratio)\n",
    "disp(end_ratio)\n",
    "\n",
    "# putting the ratios into a bar chart\n",
    "plt.bar(['Start of week', 'End of week'], [start_ratio,end_ratio], color = ['red' , 'blue'])    \n",
    "plt.title(\"ratio of people showing up to people not showing up\")\n",
    "plt.ylabel(\"Ratio\");\n",
    "plt.show()"
   ]
  },
  {
   "cell_type": "markdown",
   "metadata": {},
   "source": [
    "<div style=\"background-color:rgba(255, 0, 0, 0.1)\">\n",
    "    \n",
    "### Q8 Response: \n",
    "    \n",
    "The day of appointment (day of the week) was extracted in the data wrangling section by coverting the scheduled day into datetime format. This new column called ScheduledWeekDay was used to analyze this question. <br><br>\n",
    "By looking at the pie chart, we can see that more people tend to make appointments at the beginning or middle of the week. The number goes down as the weekend approaches, ending with a negiligible number on saturdays. <br><br>\n",
    "From the bar chart it can be observed that the ratio of people showing up to not showing up is slightly higher for the start of week but the difference is not significant.\n",
    "\n",
    "    \n",
    "</div>"
   ]
  },
  {
   "cell_type": "code",
   "execution_count": 221,
   "metadata": {},
   "outputs": [
    {
     "data": {
      "text/html": [
       "<div>\n",
       "<style scoped>\n",
       "    .dataframe tbody tr th:only-of-type {\n",
       "        vertical-align: middle;\n",
       "    }\n",
       "\n",
       "    .dataframe tbody tr th {\n",
       "        vertical-align: top;\n",
       "    }\n",
       "\n",
       "    .dataframe thead th {\n",
       "        text-align: right;\n",
       "    }\n",
       "</style>\n",
       "<table border=\"1\" class=\"dataframe\">\n",
       "  <thead>\n",
       "    <tr style=\"text-align: right;\">\n",
       "      <th></th>\n",
       "      <th>PatientId</th>\n",
       "      <th>AppointmentId</th>\n",
       "      <th>Gender</th>\n",
       "      <th>ScheduledDay</th>\n",
       "      <th>AppointmentDay</th>\n",
       "      <th>ScheduledWeekDay</th>\n",
       "      <th>Age</th>\n",
       "      <th>Neighbourhood</th>\n",
       "      <th>Scholarship</th>\n",
       "      <th>Hipertension</th>\n",
       "      <th>Diabetes</th>\n",
       "      <th>Alcoholism</th>\n",
       "      <th>Handcap</th>\n",
       "      <th>SMSReceived</th>\n",
       "      <th>NoShow</th>\n",
       "      <th>AgeRange</th>\n",
       "    </tr>\n",
       "  </thead>\n",
       "  <tbody>\n",
       "    <tr>\n",
       "      <th>0</th>\n",
       "      <td>29872499824296</td>\n",
       "      <td>5642903</td>\n",
       "      <td>F</td>\n",
       "      <td>2016-04-29 15:38:08-03:00</td>\n",
       "      <td>2016-04-28 21:00:00-03:00</td>\n",
       "      <td>Friday</td>\n",
       "      <td>62</td>\n",
       "      <td>JARDIM DA PENHA</td>\n",
       "      <td>0</td>\n",
       "      <td>1</td>\n",
       "      <td>0</td>\n",
       "      <td>0</td>\n",
       "      <td>0</td>\n",
       "      <td>0</td>\n",
       "      <td>0</td>\n",
       "      <td>Old</td>\n",
       "    </tr>\n",
       "  </tbody>\n",
       "</table>\n",
       "</div>"
      ],
      "text/plain": [
       "        PatientId AppointmentId Gender              ScheduledDay  \\\n",
       "0  29872499824296       5642903      F 2016-04-29 15:38:08-03:00   \n",
       "\n",
       "             AppointmentDay ScheduledWeekDay  Age    Neighbourhood  \\\n",
       "0 2016-04-28 21:00:00-03:00           Friday   62  JARDIM DA PENHA   \n",
       "\n",
       "   Scholarship  Hipertension  Diabetes  Alcoholism  Handcap  SMSReceived  \\\n",
       "0            0             1         0           0        0            0   \n",
       "\n",
       "   NoShow AgeRange  \n",
       "0       0      Old  "
      ]
     },
     "execution_count": 221,
     "metadata": {},
     "output_type": "execute_result"
    }
   ],
   "source": [
    "medical_data.head(1)"
   ]
  },
  {
   "cell_type": "markdown",
   "metadata": {},
   "source": [
    "<div style=\"background-color:rgba(0, 225, 0, 0.1)\">\n",
    "\n",
    "<a id='conclusions'></a>\n",
    "## Conclusions\n",
    "\n",
    "All inferences made, statistical or otherwise, were strictly based on the trends observed in the provided dataset and should not be generally applied worldwide <br> <br>\n",
    "Data was statistically analyzed and visualized using different tools. After analyzing data and answering questions based on various features, we will conclude with some comments on which characteristics seem to be the most major factors to know for predicting if a patient will not show up or not?<br>\n",
    "\n",
    "**1)** Both the gender of patient and the day of appointment did not seem to have any major effect on whether a patient will show up or not. <br>\n",
    "**2)** Age of the patient seemed to be a major factor. There was a clear link noticed in data, between age and likelihood of patients not showing up. Young people were found out to be more likely to skip appointment than older patients. <br>\n",
    "**3)** It was also noticed that having a scholarship doesnt seem to increase or decrease chances of showing up significantly. <br>\n",
    "**4)** Of all disabilities, a patient with alcoholism is most likely to not show up, with 22% probability. But there are far more appointments with hypertension compared to other disabilities, with hipertension having no show probability not drastically different from alcoholism (18%). It seems like a reasonable conclusion that hypertension is the most major disability in regards to predicting a no-show. <br>\n",
    "**5)** No evidence was found that recieving SMS has an effect on decreasing the chances of no-show. <br>\n",
    "**6)** It was observed that the number or any previous appointments for the same patient had a major effect on the no-show frequency. As it was observed that four-fifth of the patients who had more than 10 appointments had never missed an appointment.<br><br>\n",
    "**In conclusion, if we had to pick our top predicting factors for a no-show that would be the age, number of previous appointments, alcoholism and hipertension.**\n",
    "    \n",
    "</div>"
   ]
  },
  {
   "cell_type": "markdown",
   "metadata": {
    "collapsed": true
   },
   "source": [
    "<div style=\"background-color:rgba(0, 225, 0, 0.1)\">\n",
    "\n",
    "## References\n",
    "    \n",
    "kaggle: https://www.kaggle.com/joniarroba/noshowappointments\n",
    "\n",
    "stackoverflow: https://stackoverflow.com/\n",
    "\n",
    "pandas documentation: https://pandas.pydata.org/docs/\n",
    "\n",
    "matplotlib documentation: https://matplotlib.org/3.3.3/contents.html\n",
    "    \n",
    "numpy documentation: https://numpy.org/doc/\n",
    "\n",
    "</div>"
   ]
  },
  {
   "cell_type": "code",
   "execution_count": null,
   "metadata": {},
   "outputs": [],
   "source": []
  }
 ],
 "metadata": {
  "kernelspec": {
   "display_name": "Python 3",
   "language": "python",
   "name": "python3"
  },
  "language_info": {
   "codemirror_mode": {
    "name": "ipython",
    "version": 3
   },
   "file_extension": ".py",
   "mimetype": "text/x-python",
   "name": "python",
   "nbconvert_exporter": "python",
   "pygments_lexer": "ipython3",
   "version": "3.8.5"
  }
 },
 "nbformat": 4,
 "nbformat_minor": 2
}
